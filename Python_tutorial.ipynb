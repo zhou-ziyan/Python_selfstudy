{
 "cells": [
  {
   "cell_type": "markdown",
   "metadata": {},
   "source": [
    "# python notebook"
   ]
  },
  {
   "cell_type": "code",
   "execution_count": 1,
   "metadata": {},
   "outputs": [],
   "source": [
    "# -*- coding: utf-8 -*-"
   ]
  },
  {
   "cell_type": "markdown",
   "metadata": {},
   "source": [
    "## 1 Basic"
   ]
  },
  {
   "cell_type": "markdown",
   "metadata": {},
   "source": [
    "### 1.1 Print"
   ]
  },
  {
   "cell_type": "code",
   "execution_count": 4,
   "metadata": {},
   "outputs": [
    {
     "name": "stdout",
     "output_type": "stream",
     "text": [
      "word word\n",
      "I'm \"OK\"!\n",
      "\\\\\\t\\\\\n",
      "line1\n",
      "line2\n",
      "line3\n",
      "123\n",
      "ABC\n"
     ]
    }
   ],
   "source": [
    "print('word','word') # word word\n",
    "print('I\\'m \\\"OK\\\"!') # I'm \"OK\"!\n",
    "print(r'\\\\\\t\\\\') # \\\\\\t\\\\\n",
    "\n",
    "print('''line1\n",
    "line2\n",
    "line3''')\n",
    "\n",
    "a = 123 # a is an interger\n",
    "print(a)\n",
    "a = 'ABC' # a turn into a string\n",
    "print(a)"
   ]
  },
  {
   "cell_type": "code",
   "execution_count": 5,
   "metadata": {},
   "outputs": [
    {
     "name": "stdout",
     "output_type": "stream",
     "text": [
      "    3-0001\n",
      "3.142\n"
     ]
    }
   ],
   "source": [
    "ord('A')#65\n",
    "ord('中')#20013\n",
    "chr(66)#'B'\n",
    "chr(25991)#'文'\n",
    "\n",
    "'ABC'.encode('ascii')#b'ABC'\n",
    "'中文'.encode('utf-8')#b'\\xe4\\xb8\\xad\\xe6\\x96\\x87'\n",
    "\n",
    "#'中文'.encode('ascii')#报错\n",
    "\n",
    "b'ABC'.decode('ascii')\n",
    "#'ABC'\n",
    "b'\\xe4\\xb8\\xad\\xe6\\x96\\x87'.decode('utf-8')\n",
    "#'中文'\n",
    "\n",
    "b'\\xe4\\xb8\\xad\\xff'.decode('utf-8', errors='ignore')\n",
    "#'中'\n",
    "\n",
    "len('ABC')#3\n",
    "len('中文')#2\n",
    "len(b'ABC')#3\n",
    "len(b'\\xe4\\xb8\\xad\\xe6\\x96\\x87')#6\n",
    "len('中文'.encode('utf-8'))#6\n",
    "#1个中文字符经过UTF-8编码后通常会占用3个字节，而1个英文字符只占用1个字节\n",
    "\n",
    "#占位符\n",
    "'Hello, %s' % 'world'#'Hello, world'\n",
    "'Hi, %s, you have $%d.' % ('Michael', 1000000)#'Hi, Michael, you have $1000000.'\n",
    "\n",
    "print('%5d-%04d' % (3, 1))#    3-0001\n",
    "print('%.3f' % 3.1415926)#自动给我四舍五入了3.142"
   ]
  },
  {
   "cell_type": "markdown",
   "metadata": {},
   "source": [
    "### 1.2 Imput"
   ]
  },
  {
   "cell_type": "code",
   "execution_count": 6,
   "metadata": {},
   "outputs": [
    {
     "name": "stdin",
     "output_type": "stream",
     "text": [
      "please enter your name:  bb\n"
     ]
    },
    {
     "name": "stdout",
     "output_type": "stream",
     "text": [
      "hello, bb\n"
     ]
    }
   ],
   "source": [
    "#name = input()\n",
    "name = input('please enter your name: ')\n",
    "print('hello,', name)"
   ]
  },
  {
   "cell_type": "markdown",
   "metadata": {},
   "source": [
    "### 1.3 Operator"
   ]
  },
  {
   "cell_type": "code",
   "execution_count": 7,
   "metadata": {},
   "outputs": [
    {
     "name": "stdout",
     "output_type": "stream",
     "text": [
      "3.3333333333333335\n",
      "3.0\n",
      "3\n",
      "3\n"
     ]
    }
   ],
   "source": [
    "print(10/3)\n",
    "print(9/3)\n",
    "print(10//3)\n",
    "print(9//3)"
   ]
  },
  {
   "cell_type": "markdown",
   "metadata": {},
   "source": [
    "## 2 Flow Path"
   ]
  },
  {
   "cell_type": "markdown",
   "metadata": {},
   "source": [
    "### 2.1 Conditional Code"
   ]
  },
  {
   "cell_type": "code",
   "execution_count": null,
   "metadata": {},
   "outputs": [],
   "source": [
    "a = input('please enter age: \\n')\n",
    "age = int(a)#输入是字符串\n",
    "if age >= 18:\n",
    "    print('adult')\n",
    "elif age >= 6:\n",
    "    print('teenager')\n",
    "else:\n",
    "    print('kid')\n",
    "\n",
    "x = 1\n",
    "if x:\n",
    "    print('True')#x为非零数值、非空字符串、非空list等"
   ]
  },
  {
   "cell_type": "markdown",
   "metadata": {},
   "source": [
    "### 2.2 Loops and Iteration"
   ]
  },
  {
   "cell_type": "code",
   "execution_count": null,
   "metadata": {},
   "outputs": [],
   "source": [
    "names = ['Michael', 'Bob', 'Tracy']\n",
    "for name in names:\n",
    "    print(name)\n",
    "\n",
    "#打印0加到100\n",
    "sum = 0\n",
    "for x in range(101):\n",
    "    sum = sum + x\n",
    "print(sum)\n",
    "\n",
    "\n",
    "list(range(5))\n",
    "#[0, 1, 2, 3, 4]"
   ]
  },
  {
   "cell_type": "code",
   "execution_count": 32,
   "metadata": {},
   "outputs": [
    {
     "name": "stdout",
     "output_type": "stream",
     "text": [
      "1\n",
      "2\n",
      "3\n",
      "4\n",
      "5\n",
      "6\n",
      "END\n",
      "1\n",
      "3\n",
      "5\n"
     ]
    }
   ],
   "source": [
    "#break\n",
    "n = 1\n",
    "while n <= 100:\n",
    "    if n > 6: # 当n = 11时，条件满足，执行break语句\n",
    "        break # break语句会结束当前循环\n",
    "    print(n)\n",
    "    n = n + 1\n",
    "print('END')\n",
    "\n",
    "#continue\n",
    "n = 0\n",
    "while n < 6:\n",
    "    n = n + 1\n",
    "    if n % 2 == 0: # 如果n是偶数，执行continue语句\n",
    "        continue # continue语句会直接继续下一轮循环，后续的print()语句不会执行\n",
    "    print(n)"
   ]
  },
  {
   "cell_type": "markdown",
   "metadata": {},
   "source": [
    "## 3 Data Structure"
   ]
  },
  {
   "cell_type": "markdown",
   "metadata": {},
   "source": [
    "### 3.1 List"
   ]
  },
  {
   "cell_type": "code",
   "execution_count": 21,
   "metadata": {},
   "outputs": [],
   "source": [
    "classmates = ['Michael', 'Bob', 'Tracy']\n",
    "\n",
    "classmates[0]#'Michael'\n",
    "classmates[1]#'Bob'\n",
    "classmates[-1]#'Tracy'\n",
    "\n",
    "classmates.append('Adam')#插入末尾\n",
    "#['Michael', 'Bob', 'Tracy', 'Adam']\n",
    "\n",
    "classmates.insert(1, 'Jack')#插入指定位置\n",
    "#['Michael', 'Jack', 'Bob', 'Tracy', 'Adam']\n",
    "\n",
    "classmates.pop()#删除末尾\n",
    "#['Michael', 'Jack', 'Bob', 'Tracy']\n",
    "\n",
    "classmates.pop(1)#删除指定位置\n",
    "#['Michael', 'Bob', 'Tracy']\n",
    "\n",
    "classmates[1] = 'Sarah'#直接替换（赋值）\n",
    "#['Michael', 'Sarah', 'Tracy']"
   ]
  },
  {
   "cell_type": "markdown",
   "metadata": {},
   "source": [
    "### 3.2 tuple 元组"
   ]
  },
  {
   "cell_type": "markdown",
   "metadata": {},
   "source": [
    "tuple 不可变"
   ]
  },
  {
   "cell_type": "code",
   "execution_count": 23,
   "metadata": {},
   "outputs": [
    {
     "name": "stdout",
     "output_type": "stream",
     "text": [
      "('a', 'b', ['X', 'Y'])\n"
     ]
    }
   ],
   "source": [
    "classmates = ('Michael', 'Bob', 'Tracy')\n",
    "\n",
    "t = (1)\n",
    "#1\n",
    "\n",
    "t = (1,)\n",
    "#(1,)\n",
    "\n",
    "t = ('a', 'b', ['A', 'B'])\n",
    "t[2][0] = 'X'\n",
    "t[2][1] = 'Y'\n",
    "print(t)#('a', 'b', ['X', 'Y'])它变了"
   ]
  },
  {
   "cell_type": "markdown",
   "metadata": {},
   "source": [
    "### 3.3 Dict"
   ]
  },
  {
   "cell_type": "markdown",
   "metadata": {},
   "source": [
    "dict是用空间来换取时间的一种方法\n",
    "\n",
    "字符串、整数等都是不可变的，因此，可以放心地作为key。而list是可变的，就不能作为key"
   ]
  },
  {
   "cell_type": "code",
   "execution_count": 45,
   "metadata": {},
   "outputs": [
    {
     "name": "stdout",
     "output_type": "stream",
     "text": [
      "95\n",
      "90\n",
      "False\n",
      "None\n",
      "-1\n",
      "75\n"
     ]
    }
   ],
   "source": [
    "d = {'Michael': 95, 'Bob': 75, 'Tracy': 85}\n",
    "print(d['Michael'])#95\n",
    "\n",
    "#insert\n",
    "d['Jack'] = 90\n",
    "print(d['Jack'])#90\n",
    "\n",
    "#change\n",
    "d['Jack'] = 80\n",
    "\n",
    "#find\n",
    "print('Thomas' in d)#False\n",
    "print(d.get('Thomas'))#None\n",
    "print(d.get('Thomas', -1))#-1\n",
    "\n",
    "#delete\n",
    "print(d.pop('Bob'))# return 75"
   ]
  },
  {
   "cell_type": "markdown",
   "metadata": {},
   "source": [
    "### 3.4 Set 集合"
   ]
  },
  {
   "cell_type": "code",
   "execution_count": 50,
   "metadata": {},
   "outputs": [
    {
     "name": "stdout",
     "output_type": "stream",
     "text": [
      "{1, 2, 3}\n",
      "{2, 3}\n",
      "{1, 2, 3, 4}\n"
     ]
    }
   ],
   "source": [
    "s = set([1, 1, 2, 2, 3, 3])\n",
    "print(s)#{1, 2, 3}\n",
    "\n",
    "#insert\n",
    "s.add(4)\n",
    "\n",
    "#delete\n",
    "s.remove(4)\n",
    "\n",
    "#set operation\n",
    "s1 = set([1, 2, 3])\n",
    "s2 = set([2, 3, 4])\n",
    "s3 = s1 & s2\n",
    "print(s3)#{2, 3}\n",
    "s3 = s1 | s2\n",
    "print(s3)##{1, 2, 3, 4}"
   ]
  },
  {
   "cell_type": "markdown",
   "metadata": {},
   "source": [
    "## 4 Function"
   ]
  },
  {
   "cell_type": "code",
   "execution_count": 55,
   "metadata": {},
   "outputs": [
    {
     "name": "stdout",
     "output_type": "stream",
     "text": [
      "max(1, 2, 3) = 3\n",
      "100 20\n",
      "1\n"
     ]
    }
   ],
   "source": [
    "print('max(1, 2, 3) =', max(1, 2, 3))\n",
    "\n",
    "x = abs(100)\n",
    "y = abs(-20)\n",
    "print(x, y)\n",
    "\n",
    "a = abs # 变量a指向abs函数\n",
    "print(a(-1)) # 所以也可以通过a调用abs函数   1"
   ]
  },
  {
   "cell_type": "code",
   "execution_count": 52,
   "metadata": {},
   "outputs": [
    {
     "data": {
      "text/plain": [
       "False"
      ]
     },
     "execution_count": 52,
     "metadata": {},
     "output_type": "execute_result"
    }
   ],
   "source": [
    "int('123')#123\n",
    "int(12.34)#12\n",
    "float('12.34')#12.34\n",
    "str(1.23)#'1.23'\n",
    "bool(1)#True\n",
    "bool('')#False"
   ]
  },
  {
   "cell_type": "code",
   "execution_count": 56,
   "metadata": {},
   "outputs": [
    {
     "name": "stdout",
     "output_type": "stream",
     "text": [
      "99\n"
     ]
    }
   ],
   "source": [
    "def my_abs(x):#定义函数时，需要确定函数名和参数个数\n",
    "    if not isinstance(x, (int, float)):\n",
    "        raise TypeError('bad operand type')\t#可以先对参数的数据类型做检查\n",
    "    if x >= 0:\n",
    "        return x\n",
    "    else:\n",
    "        return -x\n",
    "#函数执行完毕也没有return语句时，自动return None\n",
    "\n",
    "print(my_abs(-99))"
   ]
  },
  {
   "cell_type": "code",
   "execution_count": 57,
   "metadata": {},
   "outputs": [],
   "source": [
    "def nop():\n",
    "    pass\n",
    "    #pass可以用来作为占位符，比如现在还没想好怎么写函数的代码，就可以先放一个pass，让代码能运行起来。"
   ]
  },
  {
   "cell_type": "code",
   "execution_count": 58,
   "metadata": {},
   "outputs": [
    {
     "name": "stdout",
     "output_type": "stream",
     "text": [
      "151.96152422706632 70.0\n"
     ]
    }
   ],
   "source": [
    "import math\n",
    "\n",
    "def move(x, y, step, angle = 0):#默认angle为0，没有输入时为0.必选参数在前，默认参数在后.\n",
    "    nx = x + step * math.cos(angle)\n",
    "    ny = y - step * math.sin(angle)\n",
    "    return nx, ny\n",
    "    #返回值是一个tuple但可以省略括号，而多个变量可以同时接收一个tuple，按位置赋给对应的值，\n",
    "    #所以，Python的函数返回多值其实就是返回一个tuple，但写起来更方便。\n",
    "\n",
    "x, y = move(100, 100, 60, math.pi / 6)\n",
    "print(x, y)#151.96152422706632 70.0"
   ]
  },
  {
   "cell_type": "code",
   "execution_count": null,
   "metadata": {},
   "outputs": [],
   "source": []
  }
 ],
 "metadata": {
  "kernelspec": {
   "display_name": "Python 3",
   "language": "python",
   "name": "python3"
  },
  "language_info": {
   "codemirror_mode": {
    "name": "ipython",
    "version": 3
   },
   "file_extension": ".py",
   "mimetype": "text/x-python",
   "name": "python",
   "nbconvert_exporter": "python",
   "pygments_lexer": "ipython3",
   "version": "3.7.0"
  }
 },
 "nbformat": 4,
 "nbformat_minor": 2
}
