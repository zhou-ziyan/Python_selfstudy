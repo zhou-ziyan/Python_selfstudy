{
 "cells": [
  {
   "cell_type": "markdown",
   "metadata": {},
   "source": [
    "# python notebook"
   ]
  },
  {
   "cell_type": "code",
   "execution_count": 1,
   "metadata": {},
   "outputs": [],
   "source": [
    "# -*- coding: utf-8 -*-"
   ]
  },
  {
   "cell_type": "markdown",
   "metadata": {},
   "source": [
    "## 4 Function"
   ]
  },
  {
   "cell_type": "markdown",
   "metadata": {},
   "source": [
    "### 4.1 内置函数"
   ]
  },
  {
   "cell_type": "code",
   "execution_count": 55,
   "metadata": {},
   "outputs": [
    {
     "name": "stdout",
     "output_type": "stream",
     "text": [
      "max(1, 2, 3) = 3\n",
      "100 20\n",
      "1\n"
     ]
    }
   ],
   "source": [
    "print('max(1, 2, 3) =', max(1, 2, 3))\n",
    "\n",
    "x = abs(100)\n",
    "y = abs(-20)\n",
    "print(x, y)\n",
    "\n",
    "a = abs # 变量a指向abs函数\n",
    "print(a(-1)) # 所以也可以通过a调用abs函数   1"
   ]
  },
  {
   "cell_type": "code",
   "execution_count": 52,
   "metadata": {},
   "outputs": [
    {
     "data": {
      "text/plain": [
       "False"
      ]
     },
     "execution_count": 52,
     "metadata": {},
     "output_type": "execute_result"
    }
   ],
   "source": [
    "int('123')#123\n",
    "int(12.34)#12\n",
    "float('12.34')#12.34\n",
    "str(1.23)#'1.23'\n",
    "bool(1)#True\n",
    "bool('')#False"
   ]
  },
  {
   "cell_type": "markdown",
   "metadata": {},
   "source": [
    "### 4.2 自定义函数"
   ]
  },
  {
   "cell_type": "code",
   "execution_count": 56,
   "metadata": {},
   "outputs": [
    {
     "name": "stdout",
     "output_type": "stream",
     "text": [
      "99\n"
     ]
    }
   ],
   "source": [
    "def my_abs(x):#定义函数时，需要确定函数名和参数个数\n",
    "    if not isinstance(x, (int, float)):\n",
    "        raise TypeError('bad operand type')\t#可以先对参数的数据类型做检查\n",
    "    if x >= 0:\n",
    "        return x\n",
    "    else:\n",
    "        return -x\n",
    "#函数执行完毕也没有return语句时，自动return None\n",
    "\n",
    "print(my_abs(-99))"
   ]
  },
  {
   "cell_type": "code",
   "execution_count": 57,
   "metadata": {},
   "outputs": [],
   "source": [
    "def nop():\n",
    "    pass\n",
    "    #pass可以用来作为占位符，比如现在还没想好怎么写函数的代码，就可以先放一个pass，让代码能运行起来。"
   ]
  },
  {
   "cell_type": "markdown",
   "metadata": {},
   "source": [
    "### 4.3 返回多个值的函数"
   ]
  },
  {
   "cell_type": "code",
   "execution_count": 58,
   "metadata": {},
   "outputs": [
    {
     "name": "stdout",
     "output_type": "stream",
     "text": [
      "151.96152422706632 70.0\n"
     ]
    }
   ],
   "source": [
    "import math\n",
    "\n",
    "def move(x, y, step, angle = 0):#默认angle为0，没有输入时为0.必选参数在前，默认参数在后.\n",
    "    nx = x + step * math.cos(angle)\n",
    "    ny = y - step * math.sin(angle)\n",
    "    return nx, ny\n",
    "    #返回值是一个tuple但可以省略括号，而多个变量可以同时接收一个tuple，按位置赋给对应的值，\n",
    "    #所以，Python的函数返回多值其实就是返回一个tuple，但写起来更方便。\n",
    "\n",
    "x, y = move(100, 100, 60, math.pi / 6)\n",
    "print(x, y)#151.96152422706632 70.0"
   ]
  },
  {
   "cell_type": "markdown",
   "metadata": {},
   "source": [
    "### 4.4 函数参数"
   ]
  },
  {
   "cell_type": "markdown",
   "metadata": {},
   "source": [
    "参数定义的顺序必须是：必选参数、默认参数、可变参数、命名关键字参数和关键字参数。"
   ]
  },
  {
   "cell_type": "markdown",
   "metadata": {},
   "source": [
    "#### 4.4.1 必选参数和默认参数"
   ]
  },
  {
   "cell_type": "markdown",
   "metadata": {},
   "source": [
    "设置默认参数：\n",
    "- 一定是必选参数在前，默认参数在后\n",
    "- 变化大的参数放前面，变化小的参数放后面。变化小的参数就可以作为默认参数。"
   ]
  },
  {
   "cell_type": "code",
   "execution_count": 3,
   "metadata": {},
   "outputs": [
    {
     "name": "stdout",
     "output_type": "stream",
     "text": [
      "25\n",
      "125\n"
     ]
    }
   ],
   "source": [
    "def power(x, n=2):\n",
    "    s = 1\n",
    "    while n > 0:\n",
    "        n = n - 1\n",
    "        s = s * x\n",
    "    return s\n",
    "print(power(5))\n",
    "print(power(5, 3))"
   ]
  },
  {
   "cell_type": "code",
   "execution_count": 6,
   "metadata": {},
   "outputs": [
    {
     "name": "stdout",
     "output_type": "stream",
     "text": [
      "['END']\n",
      "['END', 'END']\n"
     ]
    }
   ],
   "source": [
    "# 传入一个list，添加一个END再返回\n",
    "def add_end(L=[]):\n",
    "    L.append('END')\n",
    "    return L\n",
    "\n",
    "print(add_end())#['END']\n",
    "print(add_end())#['END', 'END']  #调用第二遍开始就不对了\n",
    "\n",
    "#因为默认参数L也是一个变量，它指向对象[]，每次调用该函数，如果改变了L的内容，\n",
    "#则下次调用时，默认参数的内容就变了，不再是函数定义时的[]了。"
   ]
  },
  {
   "cell_type": "code",
   "execution_count": 7,
   "metadata": {},
   "outputs": [
    {
     "name": "stdout",
     "output_type": "stream",
     "text": [
      "['END']\n",
      "['END']\n"
     ]
    }
   ],
   "source": [
    "#正确版本\n",
    "def add_end(L=None):\n",
    "    if L is None:\n",
    "        L = []\n",
    "    L.append('END')\n",
    "    return L\n",
    "\n",
    "print(add_end())\n",
    "print(add_end())"
   ]
  },
  {
   "cell_type": "markdown",
   "metadata": {},
   "source": [
    "#### 4.4.2 可变参数"
   ]
  },
  {
   "cell_type": "markdown",
   "metadata": {},
   "source": [
    "接收的是一个tuple\n",
    "\n",
    "传入的参数个数是可变的，可以是1个、2个到任意个，还可以是0个。"
   ]
  },
  {
   "cell_type": "code",
   "execution_count": 78,
   "metadata": {},
   "outputs": [
    {
     "name": "stdout",
     "output_type": "stream",
     "text": [
      "14\n",
      "84\n",
      "14\n",
      "14\n"
     ]
    }
   ],
   "source": [
    "#不使用可变参数\n",
    "def calc(numbers):\n",
    "    sum = 0\n",
    "    for n in numbers:\n",
    "        sum = sum + n * n\n",
    "    return sum\n",
    "\n",
    "print(calc([1, 2, 3]))\n",
    "print(calc((1, 3, 5, 7)))\n",
    "#print(calc())\n",
    "\n",
    "nums = [1, 2, 3]\n",
    "print(calc([nums[0], nums[1], nums[2]]))#silly\n",
    "print(calc(nums))"
   ]
  },
  {
   "cell_type": "code",
   "execution_count": 79,
   "metadata": {},
   "outputs": [
    {
     "name": "stdout",
     "output_type": "stream",
     "text": [
      "14\n",
      "84\n",
      "0\n",
      "14\n",
      "14\n"
     ]
    }
   ],
   "source": [
    "def calc(*numbers):\n",
    "    sum = 0\n",
    "    for n in numbers:\n",
    "        sum = sum + n * n\n",
    "    return sum\n",
    "\n",
    "print(calc(1, 2, 3))#可变参数在函数调用时自动组装为一个tuple\n",
    "print(calc(1, 3, 5, 7))\n",
    "print(calc())\n",
    "\n",
    "nums = [1, 2, 3]\n",
    "print(calc(nums[0], nums[1], nums[2]))#silly\n",
    "print(calc(*nums))"
   ]
  },
  {
   "cell_type": "markdown",
   "metadata": {},
   "source": [
    "#### 4.4.3 关键字参数"
   ]
  },
  {
   "cell_type": "code",
   "execution_count": 25,
   "metadata": {},
   "outputs": [
    {
     "name": "stdout",
     "output_type": "stream",
     "text": [
      "name: Michael age: 30 other: {}\n",
      "name: Adam age: 45 other: {'gender': 'M', 'job': 'Engineer'}\n",
      "name: Jack age: 24 other: {'city': 'Beijing', 'job': 'Engineer'}\n",
      "name: Jack age: 24 other: {'city': 'Beijing', 'job': 'Engineer'}\n"
     ]
    }
   ],
   "source": [
    "def person(name, age, **kw):\n",
    "    print('name:', name, 'age:', age, 'other:', kw)\n",
    "    \n",
    "person('Michael', 30)\n",
    "person('Adam', 45, gender='M', job='Engineer')\n",
    "\n",
    "extra = {'city': 'Beijing', 'job': 'Engineer'}\n",
    "person('Jack', 24, city=extra['city'], job=extra['job'])#silly\n",
    "person('Jack', 24, **extra)"
   ]
  },
  {
   "cell_type": "markdown",
   "metadata": {},
   "source": [
    "#### 4.4.4 命名关键字参数"
   ]
  },
  {
   "cell_type": "markdown",
   "metadata": {},
   "source": [
    "限制关键字参数的名字。例如，只接收city和job作为关键字参数"
   ]
  },
  {
   "cell_type": "code",
   "execution_count": 30,
   "metadata": {},
   "outputs": [
    {
     "name": "stdout",
     "output_type": "stream",
     "text": [
      "Jack 24 Beijing Engineer\n",
      "Jack 24 Beijing Engineer\n"
     ]
    }
   ],
   "source": [
    "def person(name, age, *, city, job):\n",
    "    print(name, age, city, job)\n",
    "    \n",
    "person('Jack', 24, city='Beijing', job='Engineer')\n",
    "person('Jack', 24, job='Engineer', city='Beijing')\n",
    "#person('Jack', 24, job='Engineer')"
   ]
  },
  {
   "cell_type": "markdown",
   "metadata": {},
   "source": [
    "可以有缺省值，从而简化调用"
   ]
  },
  {
   "cell_type": "code",
   "execution_count": 31,
   "metadata": {},
   "outputs": [
    {
     "name": "stdout",
     "output_type": "stream",
     "text": [
      "Jack 24 Beijing Engineer\n"
     ]
    }
   ],
   "source": [
    "def person(name, age, *, city='Beijing', job):\n",
    "    print(name, age, city, job)\n",
    "    \n",
    "person('Jack', 24, job='Engineer')"
   ]
  },
  {
   "cell_type": "code",
   "execution_count": 75,
   "metadata": {},
   "outputs": [
    {
     "name": "stdout",
     "output_type": "stream",
     "text": [
      "测试成功!\n"
     ]
    }
   ],
   "source": [
    "def product(*numbers):\n",
    "    if (numbers==()):#不是numbers is None:#不是(numbers==None):#是空的tuple\n",
    "        raise TypeError()#可以先对参数的数据类型做检查\n",
    "    sum = 1\n",
    "    for x in numbers:\n",
    "        sum*=x\n",
    "    return sum\n",
    "    \n",
    "# 测试\n",
    "if product(5) != 5:\n",
    "    print('测试失败!')\n",
    "elif product(5, 6) != 30:\n",
    "    print('测试失败!')\n",
    "elif product(5, 6, 7) != 210:\n",
    "    print('测试失败!')\n",
    "elif product(5, 6, 7, 9) != 1890:\n",
    "    print('测试失败!')\n",
    "else:\n",
    "    try:\n",
    "        product()#主要是这个地方要让它不可以跑\n",
    "        print('测试失败!')\n",
    "    except TypeError:\n",
    "        print('测试成功!')"
   ]
  },
  {
   "cell_type": "markdown",
   "metadata": {},
   "source": [
    "### 4.5 递归函数"
   ]
  },
  {
   "cell_type": "code",
   "execution_count": 80,
   "metadata": {},
   "outputs": [],
   "source": [
    "def fact(num):\n",
    "    if num == 1:\n",
    "        return 1\n",
    "    return num * fact(num - 1)"
   ]
  },
  {
   "cell_type": "markdown",
   "metadata": {},
   "source": [
    "===> fact(5)\n",
    "\n",
    "===> 5 * fact(4)\n",
    "\n",
    "===> 5 * (4 * fact(3))\n",
    "\n",
    "===> 5 * (4 * (3 * fact(2)))\n",
    "\n",
    "===> 5 * (4 * (3 * (2 * fact(1))))\n",
    "\n",
    "===> 5 * (4 * (3 * (2 * 1)))\n",
    "\n",
    "===> 5 * (4 * (3 * 2))\n",
    "\n",
    "===> 5 * (4 * 6)\n",
    "\n",
    "===> 5 * 24\n",
    "\n",
    "===> 120"
   ]
  },
  {
   "cell_type": "code",
   "execution_count": 81,
   "metadata": {},
   "outputs": [],
   "source": [
    "#尾递归优化\n",
    "def fact(num):\n",
    "    return fact_iter(num, 1)\n",
    "\n",
    "def fact_iter(num, product):\n",
    "    if num == 1:\n",
    "        return product\n",
    "    return fact_iter(num - 1, num * product)"
   ]
  },
  {
   "cell_type": "markdown",
   "metadata": {},
   "source": [
    "===> fact_iter(5, 1)\n",
    "\n",
    "===> fact_iter(4, 5)\n",
    "\n",
    "===> fact_iter(3, 20)\n",
    "\n",
    "===> fact_iter(2, 60)\n",
    "\n",
    "===> fact_iter(1, 120)\n",
    "\n",
    "===> 120"
   ]
  },
  {
   "cell_type": "markdown",
   "metadata": {},
   "source": [
    "尾递归事实上和循环是等价的，没有循环语句的编程语言只能通过尾递归实现循环。"
   ]
  },
  {
   "cell_type": "code",
   "execution_count": null,
   "metadata": {},
   "outputs": [],
   "source": []
  }
 ],
 "metadata": {
  "kernelspec": {
   "display_name": "Python 3",
   "language": "python",
   "name": "python3"
  },
  "language_info": {
   "codemirror_mode": {
    "name": "ipython",
    "version": 3
   },
   "file_extension": ".py",
   "mimetype": "text/x-python",
   "name": "python",
   "nbconvert_exporter": "python",
   "pygments_lexer": "ipython3",
   "version": "3.7.0"
  }
 },
 "nbformat": 4,
 "nbformat_minor": 2
}
